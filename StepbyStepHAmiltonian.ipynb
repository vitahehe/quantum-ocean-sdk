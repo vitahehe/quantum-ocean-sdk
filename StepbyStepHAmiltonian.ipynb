{
 "cells": [
  {
   "cell_type": "code",
   "execution_count": 11,
   "metadata": {},
   "outputs": [
    {
     "name": "stdout",
     "output_type": "stream",
     "text": [
      "[array([-0.23763961, -0.48023835,  1.        ]), array([ 0.18842319, -0.24040902,  1.        ]), array([-0.03251455, -0.39812188,  1.        ]), array([-0.47527922, -0.96047671,  2.        ]), array([ 0.37684637, -0.48081805,  2.        ]), array([-0.0650291 , -0.79624376,  2.        ]), array([-0.71291883, -1.44071506,  3.        ]), array([ 0.56526956, -0.72122707,  3.        ]), array([-0.09754364, -1.19436564,  3.        ])]\n"
     ]
    }
   ],
   "source": [
    "import numpy as np\n",
    "\n",
    "class Hit:\n",
    "    def __init__(self, hit_id, x, y, z, module_id):\n",
    "        self.hit_id = hit_id\n",
    "        self.x =x\n",
    "        self.y = y\n",
    "        self.z = z\n",
    "        self.module_id = module_id\n",
    "\n",
    "hits = [\n",
    "    Hit(hit_id=0, x=-0.23763960898404773, y=-0.4802383525946568, z=1.0, module_id=0),\n",
    "    Hit(hit_id=3, x=0.1884231865151258, y=-0.2404090239705377, z=1.0, module_id=0),\n",
    "    Hit(hit_id=6, x=-0.032514547888459, y=-0.3981218807810384, z=1.0, module_id=0),\n",
    "    Hit(hit_id=1, x=-0.47527921796809547, y=-0.9604767051893136, z=2.0, module_id=1),\n",
    "    Hit(hit_id=4, x=0.3768463730302516, y=-0.4808180479410754, z=2.0, module_id=1),\n",
    "    Hit(hit_id=7, x=-0.065029095776918, y=-0.7962437615620768, z=2.0, module_id=1),\n",
    "    Hit(hit_id=2, x=-0.7129188269521431, y=-1.4407150577839705, z=3.0, module_id=2),\n",
    "    Hit(hit_id=5, x=0.5652695595453774, y=-0.7212270719116132, z=3.0, module_id=2),\n",
    "    Hit(hit_id=8, x=-0.09754364366537699, y=-1.194365642343115, z=3.0, module_id=2)\n",
    "]\n",
    "\n",
    "locations = [np.array([hit.x, hit.y, hit.z]) for hit in hits]\n",
    "print(locations)\n"
   ]
  },
  {
   "cell_type": "code",
   "execution_count": null,
   "metadata": {},
   "outputs": [],
   "source": []
  }
 ],
 "metadata": {
  "kernelspec": {
   "display_name": "base",
   "language": "python",
   "name": "python3"
  },
  "language_info": {
   "codemirror_mode": {
    "name": "ipython",
    "version": 3
   },
   "file_extension": ".py",
   "mimetype": "text/x-python",
   "name": "python",
   "nbconvert_exporter": "python",
   "pygments_lexer": "ipython3",
   "version": "3.11.5"
  }
 },
 "nbformat": 4,
 "nbformat_minor": 2
}
