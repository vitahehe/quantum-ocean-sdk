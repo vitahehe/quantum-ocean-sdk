{
 "cells": [
  {
   "cell_type": "code",
   "execution_count": 1,
   "metadata": {},
   "outputs": [],
   "source": [
    "import trackhhl.toy.simple_generator as toy\n",
    "import trackhhl.event_model.q_event_model as em\n",
    "import numpy as np\n",
    "import itertools\n",
    "import copy\n",
    "from dwave.samplers import SimulatedAnnealingSampler, TabuSampler\n",
    "import dimod\n",
    "import psutil\n",
    "import time\n",
    "from scipy.sparse import lil_matrix, csc_matrix, block_diag\n",
    "from dwave.system import DWaveSampler, EmbeddingComposite\n",
    "import tracemalloc\n",
    "\n",
    "\n"
   ]
  },
  {
   "cell_type": "code",
   "execution_count": 2,
   "metadata": {},
   "outputs": [
    {
     "data": {
      "text/plain": [
       "[Hit(hit_id=0, x=-0.06071435473791453, y=-0.531888957075367, z=1.0, module_id=0, track_id=0),\n",
       " Hit(hit_id=3, x=0.13645564704946325, y=0.1878343994981598, z=1.0, module_id=0, track_id=1),\n",
       " Hit(hit_id=1, x=-0.12142870947582907, y=-1.063777914150734, z=2.0, module_id=1, track_id=0),\n",
       " Hit(hit_id=4, x=0.2729112940989265, y=0.3756687989963196, z=2.0, module_id=1, track_id=1),\n",
       " Hit(hit_id=2, x=-0.18214306421374363, y=-1.595666871226101, z=3.0, module_id=2, track_id=0),\n",
       " Hit(hit_id=5, x=0.4093669411483897, y=0.5635031984944794, z=3.0, module_id=2, track_id=1)]"
      ]
     },
     "execution_count": 2,
     "metadata": {},
     "output_type": "execute_result"
    }
   ],
   "source": [
    "N_MODULES = 3\n",
    "LX = float(\"+inf\")\n",
    "LY = float(\"+inf\")\n",
    "Z_SPACING = 1.0\n",
    "\n",
    "detector = toy.SimpleDetectorGeometry(\n",
    "    module_id=list(range(N_MODULES)),\n",
    "    lx=[LX] * N_MODULES,\n",
    "    ly=[LY] * N_MODULES,\n",
    "    z=[i + Z_SPACING for i in range(N_MODULES)]\n",
    ")\n",
    "\n",
    "generator = toy.SimpleGenerator(\n",
    "    detector_geometry=detector,\n",
    "    theta_max=np.pi / 6\n",
    ")\n",
    "\n",
    "N_PARTICLES = 2\n",
    "event = generator.generate_event(N_PARTICLES)\n",
    "event.hits"
   ]
  },
  {
   "cell_type": "code",
   "execution_count": null,
   "metadata": {},
   "outputs": [
    {
     "name": "stdout",
     "output_type": "stream",
     "text": [
      "[[ 0.  1.  1.  0. -1.  0.  0.  0.]\n",
      " [ 1.  0.  0.  1.  0.  0.  0.  0.]\n",
      " [ 1.  0.  0.  1.  0.  0.  0.  0.]\n",
      " [ 0.  1.  1.  0.  0.  0.  0. -1.]\n",
      " [-1.  0.  0.  0.  0.  1.  1.  0.]\n",
      " [ 0.  0.  0.  0.  1.  0.  0.  1.]\n",
      " [ 0.  0.  0.  0.  1.  0.  0.  1.]\n",
      " [ 0.  0.  0. -1.  0.  1.  1.  0.]]\n",
      "Memory used: 0.17 MB\n",
      "Time taken: 0.004987 seconds\n",
      "[1 0 0 1 1 0 0 1]\n"
     ]
    }
   ],
   "source": [
    "import numpy as np\n",
    "import scipy.sparse as sp\n",
    "from scipy.sparse import dok_matrix, csc_matrix\n",
    "from joblib import Parallel, delayed\n",
    "\n",
    "def angular_and_bifurcation_checks(i, vectors, norms, segments, N, alpha, eps):\n",
    "    \"\"\"Performs angular consistency and bifurcation checks for a given index `i`.\"\"\"\n",
    "    results_ang = []\n",
    "    results_bif = []\n",
    "    \n",
    "    vect_i = vectors[i]\n",
    "    norm_i = norms[i]\n",
    "\n",
    "    for j in range(i + 1, N):  # Only upper triangle\n",
    "        vect_j = vectors[j]\n",
    "        norm_j = norms[j]\n",
    "        cosine = np.dot(vect_i, vect_j) / (norm_i * norm_j)\n",
    "\n",
    "        # Angular consistency\n",
    "        if np.abs(cosine - 1) < eps:\n",
    "            results_ang.append((i, j, 1))\n",
    "\n",
    "        # Bifurcation consistency\n",
    "        seg_i, seg_j = segments[i], segments[j]\n",
    "        if seg_i.from_hit == seg_j.from_hit and seg_i.to_hit != seg_j.to_hit:\n",
    "            results_bif.append((i, j, -alpha))\n",
    "        elif seg_i.from_hit != seg_j.from_hit and seg_i.to_hit == seg_j.to_hit:\n",
    "            results_bif.append((i, j, -alpha))\n",
    "\n",
    "    return results_ang, results_bif\n",
    "\n",
    "def generate_hamiltonian_optimizedPAR(event, params):\n",
    "    lambda_val = params.get('lambda')\n",
    "    alpha = params.get('alpha')\n",
    "    beta = params.get('beta')\n",
    "\n",
    "    # Sort modules\n",
    "    modules = sorted(event.modules, key=lambda a: a.z)\n",
    "\n",
    "    # Generate segments\n",
    "    segments = [\n",
    "        em.segment(from_hit, to_hit)\n",
    "        for idx in range(len(modules) - 1)\n",
    "        for from_hit, to_hit in itertools.product(modules[idx].hits, modules[idx + 1].hits)\n",
    "    ]\n",
    "    \n",
    "    N = len(segments)\n",
    "    b = np.zeros(N)\n",
    "\n",
    "    # Precompute vectors and norms\n",
    "    vectors = np.array([seg.to_vect() for seg in segments])\n",
    "    norms = np.linalg.norm(vectors, axis=1)\n",
    "\n",
    "    eps = 1e-9  # Precision threshold\n",
    "\n",
    "    # Perform angular and bifurcation checks in parallel\n",
    "    results = Parallel(n_jobs=-1, backend=\"loky\")(\n",
    "        delayed(angular_and_bifurcation_checks)(i, vectors, norms, segments, N, alpha, eps)\n",
    "        for i in range(N)\n",
    "    )\n",
    "\n",
    "    # Aggregate results\n",
    "    A_ang = dok_matrix((N, N), dtype=np.float64)\n",
    "    A_bif = dok_matrix((N, N), dtype=np.float64)\n",
    "\n",
    "    for ang_results, bif_results in results:\n",
    "        for i, j, value in ang_results:\n",
    "            A_ang[i, j] = value\n",
    "            A_ang[j, i] = value  # Symmetric\n",
    "        for i, j, value in bif_results:\n",
    "            A_bif[i, j] = value\n",
    "            A_bif[j, i] = value  # Symmetric\n",
    "\n",
    "    # Convert angular and bifurcation matrices to sparse format\n",
    "    A_ang = A_ang.tocsc()\n",
    "    A_bif = A_bif.tocsc()\n",
    "\n",
    "    # Inhibitory interactions\n",
    "    module_ids_from = np.array([seg.from_hit.module_id for seg in segments])\n",
    "    module_ids_to = np.array([seg.to_hit.module_id for seg in segments])\n",
    "    s_ab = sp.csc_matrix((module_ids_from == 1) & (module_ids_to[:, None] == 1), dtype=int)\n",
    "    A_inh = s_ab.multiply(s_ab.T) * beta\n",
    "\n",
    "    # Combine matrices into the Hamiltonian\n",
    "    A = -1 * (A_ang + A_bif + A_inh)\n",
    "    true_solution = np.array([1 if segment.truth else 0 for segment in segments])\n",
    "\n",
    "\n",
    "\n",
    "    return A, b, true_solution"
   ]
  },
  {
   "cell_type": "code",
   "execution_count": null,
   "metadata": {},
   "outputs": [
    {
     "name": "stdout",
     "output_type": "stream",
     "text": [
      "Solution:[1 0 0 1 1 0 0 1]\n"
     ]
    },
    {
     "data": {
      "text/plain": [
       "array([1, 0, 0, 1, 1, 0, 0, 1])"
      ]
     },
     "execution_count": 4,
     "metadata": {},
     "output_type": "execute_result"
    }
   ],
   "source": [
    "import dimod\n",
    "import psutil\n",
    "import time\n",
    "from scipy.sparse import csc_matrix\n",
    "\n",
    "def qubosolverSA(A, b):\n",
    "\n",
    "\n",
    "    #Keep A sparse\n",
    "    A = csc_matrix(A)\n",
    "\n",
    "    bqm = dimod.BinaryQuadraticModel.empty(dimod.BINARY)\n",
    "\n",
    "    #vectors for efficiency \n",
    "    bqm.add_variables_from({i: b[i] for i in range(len(b))})\n",
    "\n",
    "    row, col = A.nonzero()  \n",
    "    for i, j in zip(row, col):\n",
    "        if i != j:  \n",
    "            bqm.add_interaction(i, j, A[i, j])\n",
    "\n",
    "    sampler = SimulatedAnnealingSampler()\n",
    "    response = sampler.sample(bqm, num_reads=100)\n",
    "\n",
    "    best_sample = response.first.sample\n",
    "    sol_sample = np.fromiter(best_sample.values(), dtype=int)  \n",
    "\n",
    "\n",
    "    print(f\"Solution:{sol_sample}\")\n",
    "\n",
    "\n",
    "    return sol_sample\n",
    "\n",
    "qubosolver(A, b)\n"
   ]
  },
  {
   "cell_type": "code",
   "execution_count": 7,
   "metadata": {},
   "outputs": [
    {
     "name": "stdout",
     "output_type": "stream",
     "text": [
      "Solution: [1 0 0 1 1 0 0 1]\n"
     ]
    },
    {
     "data": {
      "text/plain": [
       "array([1, 0, 0, 1, 1, 0, 0, 1])"
      ]
     },
     "execution_count": 7,
     "metadata": {},
     "output_type": "execute_result"
    }
   ],
   "source": [
    "def qubosolverQA(A, b):\n",
    "    # Keep A sparse\n",
    "    A = csc_matrix(A)\n",
    "\n",
    "    bqm = dimod.BinaryQuadraticModel.empty(dimod.BINARY)\n",
    "    bqm.add_variables_from({i: b[i] for i in range(len(b))})\n",
    "\n",
    "    row, col = A.nonzero()\n",
    "    for i, j in zip(row, col):\n",
    "        if i != j:\n",
    "            bqm.add_interaction(i, j, A[i, j])\n",
    "\n",
    "    # Use D-Wave's quantum sampler\n",
    "    sampler = EmbeddingComposite(DWaveSampler(token='DEV-2df6769d96a5ddaec4b4e037d3a7a92833582e9c'))\n",
    "    response = sampler.sample(bqm, num_reads=100)\n",
    "\n",
    "    best_sample = response.first.sample\n",
    "    sol_sample = np.fromiter(best_sample.values(), dtype=int)\n",
    "\n",
    "\n",
    "    print(f\"Solution: {sol_sample}\")\n",
    "\n",
    "\n",
    "    return sol_sample\n",
    "\n",
    "qubosolverQA(A, b)"
   ]
  },
  {
   "cell_type": "code",
   "execution_count": 8,
   "metadata": {},
   "outputs": [
    {
     "name": "stdout",
     "output_type": "stream",
     "text": [
      "Solution: [1 0 0 1 1 0 0 1]\n"
     ]
    },
    {
     "data": {
      "text/plain": [
       "array([1, 0, 0, 1, 1, 0, 0, 1])"
      ]
     },
     "execution_count": 8,
     "metadata": {},
     "output_type": "execute_result"
    }
   ],
   "source": [
    "from dwave.system import LeapHybridSampler\n",
    "import os\n",
    "\n",
    "os.environ['DWAVE_API_TOKEN'] = 'DEV-2df6769d96a5ddaec4b4e037d3a7a92833582e9c'\n",
    "import tracemalloc\n",
    "import time\n",
    "import numpy as np\n",
    "from scipy.sparse import csc_matrix\n",
    "from dimod import BinaryQuadraticModel\n",
    "def qubosolverHr(A, b):\n",
    "\n",
    "\n",
    "    # Keep A sparse\n",
    "    A = csc_matrix(A)\n",
    "\n",
    "    # Define a Binary Quadratic Model (BQM) for the QUBO problem\n",
    "    bqm = BinaryQuadraticModel.empty(dimod.BINARY)\n",
    "\n",
    "    # Add the linear terms from vector b\n",
    "    bqm.add_variables_from({i: b[i] for i in range(len(b))})\n",
    "    row, col = A.nonzero()  # Get non-zero entries in the matrix A\n",
    "    for i, j in zip(row, col):\n",
    "        if i != j:  # Only consider off-diagonal terms (interactions)\n",
    "            bqm.add_interaction(i, j, A[i, j])\n",
    "\n",
    "    sampler = LeapHybridSampler()\n",
    "\n",
    "    # Solve the QUBO problem using the hybrid solver\n",
    "    response = sampler.sample(bqm)\n",
    "\n",
    "    # Extract the best sample (solution) from the response\n",
    "    best_sample = response.first.sample\n",
    "    sol_sample = np.fromiter(best_sample.values(), dtype=int)\n",
    "\n",
    "    print(f\"Solution: {sol_sample}\")\n",
    "\n",
    "\n",
    "    return sol_sample\n",
    "qubosolverHr(A, b)"
   ]
  },
  {
   "cell_type": "code",
   "execution_count": 23,
   "metadata": {},
   "outputs": [
    {
     "name": "stdout",
     "output_type": "stream",
     "text": [
      "Best Solution: [1 0 0 1 1 0 0 1]\n",
      "Best Energy: -4.0\n",
      "Brute Force Solution: [1 0 0 1 1 0 0 1]\n"
     ]
    }
   ],
   "source": [
    "from itertools import product\n",
    "from scipy.sparse import csc_matrix\n",
    "\n",
    "def brute_force(A, b):\n",
    "    A = csc_matrix(A)\n",
    "    n = len(b) \n",
    "\n",
    "    best_solution = None\n",
    "    best_energy = np.inf\n",
    "    for config in product([0, 1], repeat=n):\n",
    "        config = np.array(config)\n",
    "        \n",
    "        #calculate energy: E = x^T A x + b^T x\n",
    "        energy = config @ A @ config + b @ config\n",
    "        if energy < best_energy:\n",
    "            best_energy = energy\n",
    "            best_solution = config\n",
    "\n",
    "    print(f\"Best Solution: {best_solution}\")\n",
    "    print(f\"Best Energy: {best_energy}\")\n",
    "\n",
    "    return best_solution\n",
    "\n",
    "\n",
    "brute_force_solution = brute_force(A, b)\n",
    "print(f\"Brute Force Solution: {brute_force_solution}\")\n",
    "\n",
    "\n"
   ]
  }
 ],
 "metadata": {
  "kernelspec": {
   "display_name": "base",
   "language": "python",
   "name": "python3"
  },
  "language_info": {
   "codemirror_mode": {
    "name": "ipython",
    "version": 3
   },
   "file_extension": ".py",
   "mimetype": "text/x-python",
   "name": "python",
   "nbconvert_exporter": "python",
   "pygments_lexer": "ipython3",
   "version": "3.11.5"
  }
 },
 "nbformat": 4,
 "nbformat_minor": 2
}
