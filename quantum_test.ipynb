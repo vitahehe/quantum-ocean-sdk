{
 "cells": [
  {
   "cell_type": "code",
   "execution_count": 5,
   "id": "abbd89f0-431e-4f55-a7a8-26ebdfb25bdb",
   "metadata": {},
   "outputs": [
    {
     "name": "stdout",
     "output_type": "stream",
     "text": [
      "Best solution: Sample(sample={0: 0, 1: 0}, energy=0.0, num_occurrences=100, chain_break_fraction=0.0)\n"
     ]
    }
   ],
   "source": [
    "from dwave.system import DWaveSampler, EmbeddingComposite\n",
    "\n",
    "Q = {\n",
    "    (0, 0): 2,  \n",
    "    (1, 1): 3,  \n",
    "    (0, 1): 3,\n",
    "    (1, 0): 3\n",
    "}\n",
    "\n",
    "sampler = EmbeddingComposite(DWaveSampler())\n",
    "sampleset = sampler.sample_qubo(Q, num_reads=100)\n",
    "best_sample = sampleset.first\n",
    "print(f\"Best solution: {best_sample}\")"
   ]
  },
  {
   "cell_type": "code",
   "execution_count": null,
   "id": "a1cc7094-1465-4578-bc8f-78377b4fa762",
   "metadata": {},
   "outputs": [
    {
     "name": "stdout",
     "output_type": "stream",
     "text": [
      "Best solution: Sample(sample={0: 1, 1: 0, 2: 0, 3: 1}, energy=-11.0, num_occurrences=76, chain_break_fraction=0.0)\n"
     ]
    }
   ],
   "source": [
    "from dwave.system import DWaveSampler, EmbeddingComposite\n",
    "\n",
    "Q = {\n",
    "    (0, 0): -5,  \n",
    "    (1, 1): -3,  \n",
    "    (2, 2): -8,\n",
    "    (3 ,3): -6,\n",
    "    (0, 1): 4,\n",
    "    (0, 2): 8,\n",
    "    (1, 2): 2,\n",
    "    (2, 3): 10\n",
    "}\n",
    "\n",
    "sampler = EmbeddingComposite(DWaveSampler())\n",
    "sampleset = sampler.sample_qubo(Q, num_reads=100)\n",
    "best_sample = sampleset.first\n",
    "print(f\"Best solution: {best_sample}\")"
   ]
  },
  {
   "cell_type": "code",
   "execution_count": null,
   "metadata": {},
   "outputs": [],
   "source": [
    "from dimod import SimulatedAnnealingSampler\n",
    "\n",
    "# Define the QUBO problem\n",
    "Q = {\n",
    "    (0, 0): -5,  \n",
    "    (1, 1): -3,  \n",
    "    (2, 2): -8,\n",
    "    (3, 3): -6,\n",
    "    (0, 1): 4,\n",
    "    (0, 2): 8,\n",
    "    (1, 2): 2,\n",
    "    (2, 3): 10\n",
    "}\n",
    "\n",
    "# Use the Simulated Annealing Sampler\n",
    "sampler = SimulatedAnnealingSampler()\n",
    "sampleset = sampler.sample_qubo(Q, num_reads=100)\n",
    "\n",
    "# Get the best solution\n",
    "best_sample = sampleset.first\n",
    "print(f\"Best solution: {best_sample}\")\n"
   ]
  }
 ],
 "metadata": {
  "kernelspec": {
   "display_name": "Python 3 (ipykernel)",
   "language": "python",
   "name": "python3"
  },
  "language_info": {
   "codemirror_mode": {
    "name": "ipython",
    "version": 3
   },
   "file_extension": ".py",
   "mimetype": "text/x-python",
   "name": "python",
   "nbconvert_exporter": "python",
   "pygments_lexer": "ipython3",
   "version": "3.11.5"
  }
 },
 "nbformat": 4,
 "nbformat_minor": 5
}
