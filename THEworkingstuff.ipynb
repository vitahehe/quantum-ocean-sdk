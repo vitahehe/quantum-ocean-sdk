{
 "cells": [
  {
   "cell_type": "code",
   "execution_count": 1,
   "metadata": {},
   "outputs": [],
   "source": [
    "import trackhhl.toy.simple_generator as toy\n",
    "import trackhhl.event_model.q_event_model as em\n",
    "import numpy as np\n",
    "import itertools\n",
    "import copy\n",
    "from dwave.samplers import SimulatedAnnealingSampler\n",
    "import dimod\n",
    "import psutil\n",
    "import time\n",
    "from scipy.sparse import lil_matrix, csc_matrix, block_diag\n",
    "from dwave.system import DWaveSampler, EmbeddingComposite\n",
    "import tracemalloc\n",
    "\n",
    "\n"
   ]
  },
  {
   "cell_type": "code",
   "execution_count": 2,
   "metadata": {},
   "outputs": [
    {
     "data": {
      "text/plain": [
       "[Hit(hit_id=0, x=0.0913897303230664, y=-0.15274311569702712, z=1.0, module_id=0, track_id=0),\n",
       " Hit(hit_id=5, x=0.044688461450391535, y=-0.09064424348518786, z=1.0, module_id=0, track_id=1),\n",
       " Hit(hit_id=1, x=0.1827794606461328, y=-0.30548623139405423, z=2.0, module_id=1, track_id=0),\n",
       " Hit(hit_id=6, x=0.08937692290078307, y=-0.18128848697037572, z=2.0, module_id=1, track_id=1),\n",
       " Hit(hit_id=2, x=0.2741691909691992, y=-0.4582293470910814, z=3.0, module_id=2, track_id=0),\n",
       " Hit(hit_id=7, x=0.13406538435117463, y=-0.2719327304555636, z=3.0, module_id=2, track_id=1),\n",
       " Hit(hit_id=3, x=0.3655589212922656, y=-0.6109724627881085, z=4.0, module_id=3, track_id=0),\n",
       " Hit(hit_id=8, x=0.17875384580156614, y=-0.36257697394075145, z=4.0, module_id=3, track_id=1),\n",
       " Hit(hit_id=4, x=0.45694865161533194, y=-0.7637155784851356, z=5.0, module_id=4, track_id=0),\n",
       " Hit(hit_id=9, x=0.2234423072519577, y=-0.45322121742593935, z=5.0, module_id=4, track_id=1)]"
      ]
     },
     "execution_count": 2,
     "metadata": {},
     "output_type": "execute_result"
    }
   ],
   "source": [
    "N_MODULES = 5\n",
    "LX = float(\"+inf\")\n",
    "LY = float(\"+inf\")\n",
    "Z_SPACING = 1.0\n",
    "\n",
    "detector = toy.SimpleDetectorGeometry(\n",
    "    module_id=list(range(N_MODULES)),\n",
    "    lx=[LX] * N_MODULES,\n",
    "    ly=[LY] * N_MODULES,\n",
    "    z=[i + Z_SPACING for i in range(N_MODULES)]\n",
    ")\n",
    "\n",
    "generator = toy.SimpleGenerator(\n",
    "    detector_geometry=detector,\n",
    "    theta_max=np.pi / 6\n",
    ")\n",
    "\n",
    "N_PARTICLES = 2\n",
    "event = generator.generate_event(N_PARTICLES)\n",
    "event.hits"
   ]
  },
  {
   "cell_type": "code",
   "execution_count": 3,
   "metadata": {},
   "outputs": [
    {
     "name": "stdout",
     "output_type": "stream",
     "text": [
      "Memory used: 0.17 MB\n",
      "Time taken: 0.015957 seconds\n"
     ]
    }
   ],
   "source": [
    "params = {\n",
    "    'alpha': 1.0,\n",
    "    'beta': 1.0,\n",
    "    'lambda': 100.0,} \n",
    "\n",
    "def generate_hamiltonian_optimized(event, params):\n",
    "    lambda_val = params.get('lambda')\n",
    "    alpha = params.get('alpha')\n",
    "    beta = params.get('beta')\n",
    "\n",
    "    modules = sorted(event.modules, key=lambda module: module.z)\n",
    "\n",
    "    \n",
    "    segments = [\n",
    "        em.segment(from_hit, to_hit)\n",
    "        for idx in range(len(modules) - 1)\n",
    "        for from_hit, to_hit in itertools.product(modules[idx].hits, modules[idx + 1].hits)\n",
    "    ]\n",
    "\n",
    "    N = len(segments)  \n",
    "\n",
    "    #initialize sparse block matrices for effviciency\n",
    "    A_ang_blocks = []\n",
    "    A_bif_blocks = []\n",
    "    A_inh_blocks = []\n",
    "    b = np.zeros(N)\n",
    "\n",
    "    #total Hamiltonian into smaller blocks->> better for memory\n",
    "    block_size = 500  \n",
    "    num_blocks = (N + block_size - 1) // block_size  \n",
    "\n",
    "    for block_idx in range(num_blocks):\n",
    "        start_idx = block_idx * block_size\n",
    "        end_idx = min(start_idx + block_size, N)\n",
    "\n",
    "        #lil_matrix for each block\n",
    "        A_ang_block = lil_matrix((end_idx - start_idx, end_idx - start_idx), dtype=np.float32)\n",
    "        A_bif_block = lil_matrix((end_idx - start_idx, end_idx - start_idx), dtype=np.float32)\n",
    "        A_inh_block = lil_matrix((end_idx - start_idx, end_idx - start_idx), dtype=np.float32)\n",
    "\n",
    "        #filling of papricas\n",
    "        for i in range(start_idx, end_idx):\n",
    "            seg_i = segments[i]\n",
    "            vect_i = seg_i.to_vect()\n",
    "            norm_i = np.linalg.norm(vect_i)\n",
    "\n",
    "            for j in range(i + 1, end_idx):  #\n",
    "                seg_j = segments[j]\n",
    "                vect_j = seg_j.to_vect()\n",
    "                norm_j = np.linalg.norm(vect_j)\n",
    "\n",
    "                cosine = np.dot(vect_i, vect_j) / (norm_i * norm_j)\n",
    "                if np.abs(cosine - 1) < 1e-9:\n",
    "                    A_ang_block[i - start_idx, j - start_idx] = 1\n",
    "                    A_ang_block[j - start_idx, i - start_idx] = 1  # Symmetry with positive sign\n",
    "\n",
    "                if seg_i.from_hit == seg_j.from_hit and seg_i.to_hit != seg_j.to_hit:\n",
    "                    A_bif_block[i - start_idx, j - start_idx] = -alpha\n",
    "                    A_bif_block[j - start_idx, i - start_idx] = -alpha  # Symmetry with negative sign\n",
    "\n",
    "                if seg_i.from_hit != seg_j.from_hit and seg_i.to_hit == seg_j.to_hit:\n",
    "                    A_bif_block[i - start_idx, j - start_idx] = -alpha\n",
    "                    A_bif_block[j - start_idx, i - start_idx] = -alpha  # Symmetry with negative sign\n",
    "\n",
    "                s_ab = int(seg_i.from_hit.module_id == 1 and seg_j.to_hit.module_id == 1)\n",
    "                if s_ab > 0:\n",
    "                    A_inh_block[i - start_idx, j - start_idx] = beta * s_ab * s_ab\n",
    "                    A_inh_block[j - start_idx, i - start_idx] = beta * s_ab * s_ab  # Symmetry with positive sign\n",
    "\n",
    "        A_ang_blocks.append(A_ang_block)\n",
    "        A_bif_blocks.append(A_bif_block)\n",
    "        A_inh_blocks.append(A_inh_block)\n",
    "\n",
    "    # combine withblock diagonal\n",
    "    A_ang = block_diag(A_ang_blocks, format='csc')\n",
    "    A_bif = block_diag(A_bif_blocks, format='csc')\n",
    "    A_inh = block_diag(A_inh_blocks, format='csc')\n",
    "\n",
    "    A = -1 * (A_ang + A_bif + A_inh)\n",
    "\n",
    "    return A, b, segments\n",
    "\n",
    "#performance measurement\n",
    "process = psutil.Process()\n",
    "\n",
    "start_memory = process.memory_info().rss / (1024 ** 2)  # Memory in MB\n",
    "start_time = time.time()\n",
    "\n",
    "A, b, segments = generate_hamiltonian_optimized(event, params)\n",
    "end_memory = process.memory_info().rss / (1024 ** 2)  # Memory in MB\n",
    "end_time = time.time()\n",
    "\n",
    "memory_used = end_memory - start_memory\n",
    "time_taken = end_time - start_time\n",
    "\n",
    "print(f\"Memory used: {memory_used:.2f} MB\")\n",
    "print(f\"Time taken: {time_taken:.6f} seconds\")"
   ]
  },
  {
   "cell_type": "code",
   "execution_count": 9,
   "metadata": {},
   "outputs": [
    {
     "name": "stdout",
     "output_type": "stream",
     "text": [
      "Solution:[1 0 0 1 1 0 0 1 1 0 0 1 1 0 0 1]\n",
      "Memory 0.05 MB\n",
      "Time 0.059080 seconds\n"
     ]
    },
    {
     "data": {
      "text/plain": [
       "array([1, 0, 0, 1, 1, 0, 0, 1, 1, 0, 0, 1, 1, 0, 0, 1])"
      ]
     },
     "execution_count": 9,
     "metadata": {},
     "output_type": "execute_result"
    }
   ],
   "source": [
    "import dimod\n",
    "import psutil\n",
    "import time\n",
    "from scipy.sparse import csc_matrix\n",
    "\n",
    "def qubosolver(A, b):\n",
    "\n",
    "    #performance measurement\n",
    "    process = psutil.Process()\n",
    "    start_memory = process.memory_info().rss / (1024 ** 2)  # Memory in MB\n",
    "    start_time = time.time()\n",
    "\n",
    "    #Keep A sparse\n",
    "    A = csc_matrix(A)\n",
    "\n",
    "    bqm = dimod.BinaryQuadraticModel.empty(dimod.BINARY)\n",
    "\n",
    "    #vectors for efficiency \n",
    "    bqm.add_variables_from({i: b[i] for i in range(len(b))})\n",
    "\n",
    "    row, col = A.nonzero()  \n",
    "    for i, j in zip(row, col):\n",
    "        if i != j:  \n",
    "            bqm.add_interaction(i, j, A[i, j])\n",
    "\n",
    "    sampler = SimulatedAnnealingSampler()\n",
    "    response = sampler.sample(bqm, num_reads=100)\n",
    "\n",
    "    best_sample = response.first.sample\n",
    "    sol_sample = np.fromiter(best_sample.values(), dtype=int)  \n",
    "\n",
    "    end_memory = process.memory_info().rss / (1024 ** 2) \n",
    "    end_time = time.time()\n",
    "\n",
    "   \n",
    "    memory_used = end_memory - start_memory\n",
    "    time_taken = end_time - start_time\n",
    "\n",
    "    print(f\"Solution:{sol_sample}\")\n",
    "    print(f\"Memory {memory_used:.2f} MB\")\n",
    "    print(f\"Time {time_taken:.6f} seconds\")\n",
    "\n",
    "    return sol_sample\n",
    "\n",
    "qubosolver(A, b)\n"
   ]
  },
  {
   "cell_type": "code",
   "execution_count": 5,
   "metadata": {},
   "outputs": [
    {
     "name": "stdout",
     "output_type": "stream",
     "text": [
      "Solution: [1 0 0 1 1 0 0 1 1 0 0 1 1 0 0 1]\n",
      "Peak Memory Used: 47.75 MB\n",
      "Time Taken: 10.039974 seconds\n"
     ]
    },
    {
     "data": {
      "text/plain": [
       "(array([1, 0, 0, 1, 1, 0, 0, 1, 1, 0, 0, 1, 1, 0, 0, 1]),\n",
       " 47.750840187072754,\n",
       " 10.039974212646484)"
      ]
     },
     "execution_count": 5,
     "metadata": {},
     "output_type": "execute_result"
    }
   ],
   "source": [
    "def qubosolverQA(A, b):\n",
    "    # Start tracing memory allocations\n",
    "    tracemalloc.start()\n",
    "    start_time = time.time()\n",
    "\n",
    "    # Keep A sparse\n",
    "    A = csc_matrix(A)\n",
    "\n",
    "    bqm = dimod.BinaryQuadraticModel.empty(dimod.BINARY)\n",
    "    bqm.add_variables_from({i: b[i] for i in range(len(b))})\n",
    "\n",
    "    row, col = A.nonzero()\n",
    "    for i, j in zip(row, col):\n",
    "        if i != j:\n",
    "            bqm.add_interaction(i, j, A[i, j])\n",
    "\n",
    "    # Use D-Wave's quantum sampler\n",
    "    sampler = EmbeddingComposite(DWaveSampler(token='DEV-2df6769d96a5ddaec4b4e037d3a7a92833582e9c'))\n",
    "    response = sampler.sample(bqm, num_reads=100)\n",
    "\n",
    "    best_sample = response.first.sample\n",
    "    sol_sample = np.fromiter(best_sample.values(), dtype=int)\n",
    "\n",
    "    end_time = time.time()\n",
    "    # Get the current and peak memory usage\n",
    "    current, peak = tracemalloc.get_traced_memory()\n",
    "    tracemalloc.stop()\n",
    "\n",
    "    memory_used = peak / (1024 ** 2)\n",
    "    time_taken = end_time - start_time\n",
    "\n",
    "    print(f\"Solution: {sol_sample}\")\n",
    "    print(f\"Peak Memory Used: {memory_used:.2f} MB\")\n",
    "    print(f\"Time Taken: {time_taken:.6f} seconds\")\n",
    "\n",
    "    return sol_sample, memory_used, time_taken\n",
    "\n",
    "qubosolverQA(A, b)"
   ]
  },
  {
   "cell_type": "code",
   "execution_count": 10,
   "metadata": {},
   "outputs": [
    {
     "name": "stdout",
     "output_type": "stream",
     "text": [
      "Best Solution: [1 0 0 1 1 0 0 1 1 0 0 1 1 0 0 1]\n",
      "Best Energy: -24.0\n",
      "Brute Force Solution: [1 0 0 1 1 0 0 1 1 0 0 1 1 0 0 1]\n"
     ]
    }
   ],
   "source": [
    "from itertools import product\n",
    "from scipy.sparse import csc_matrix\n",
    "\n",
    "def brute_force(A, b):\n",
    "    A = csc_matrix(A)\n",
    "    n = len(b) \n",
    "\n",
    "    best_solution = None\n",
    "    best_energy = np.inf\n",
    "    for config in product([0, 1], repeat=n):\n",
    "        config = np.array(config)\n",
    "        \n",
    "        #calculate energy: E = x^T A x + b^T x\n",
    "        energy = config @ A @ config + b @ config\n",
    "        if energy < best_energy:\n",
    "            best_energy = energy\n",
    "            best_solution = config\n",
    "\n",
    "    print(f\"Best Solution: {best_solution}\")\n",
    "    print(f\"Best Energy: {best_energy}\")\n",
    "\n",
    "    return best_solution\n",
    "\n",
    "\n",
    "brute_force_solution = brute_force(A, b)\n",
    "print(f\"Brute Force Solution: {brute_force_solution}\")\n",
    "\n",
    "\n"
   ]
  }
 ],
 "metadata": {
  "kernelspec": {
   "display_name": "base",
   "language": "python",
   "name": "python3"
  },
  "language_info": {
   "codemirror_mode": {
    "name": "ipython",
    "version": 3
   },
   "file_extension": ".py",
   "mimetype": "text/x-python",
   "name": "python",
   "nbconvert_exporter": "python",
   "pygments_lexer": "ipython3",
   "version": "3.11.5"
  }
 },
 "nbformat": 4,
 "nbformat_minor": 2
}
