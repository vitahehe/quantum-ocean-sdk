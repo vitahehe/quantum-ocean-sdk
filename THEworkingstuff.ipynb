{
 "cells": [
  {
   "cell_type": "code",
   "execution_count": 1,
   "metadata": {},
   "outputs": [],
   "source": [
    "import trackhhl.toy.simple_generator as toy\n",
    "import trackhhl.event_model.q_event_model as em\n",
    "import numpy as np\n",
    "import itertools\n",
    "import copy\n",
    "from dwave.samplers import SimulatedAnnealingSampler, TabuSampler\n",
    "import dimod\n",
    "import psutil\n",
    "import time\n",
    "from scipy.sparse import lil_matrix, csc_matrix, block_diag\n",
    "from dwave.system import DWaveSampler, EmbeddingComposite\n",
    "import tracemalloc\n",
    "\n",
    "\n"
   ]
  },
  {
   "cell_type": "code",
   "execution_count": 2,
   "metadata": {},
   "outputs": [
    {
     "data": {
      "text/plain": [
       "[Hit(hit_id=0, x=-0.06071435473791453, y=-0.531888957075367, z=1.0, module_id=0, track_id=0),\n",
       " Hit(hit_id=3, x=0.13645564704946325, y=0.1878343994981598, z=1.0, module_id=0, track_id=1),\n",
       " Hit(hit_id=1, x=-0.12142870947582907, y=-1.063777914150734, z=2.0, module_id=1, track_id=0),\n",
       " Hit(hit_id=4, x=0.2729112940989265, y=0.3756687989963196, z=2.0, module_id=1, track_id=1),\n",
       " Hit(hit_id=2, x=-0.18214306421374363, y=-1.595666871226101, z=3.0, module_id=2, track_id=0),\n",
       " Hit(hit_id=5, x=0.4093669411483897, y=0.5635031984944794, z=3.0, module_id=2, track_id=1)]"
      ]
     },
     "execution_count": 2,
     "metadata": {},
     "output_type": "execute_result"
    }
   ],
   "source": [
    "N_MODULES = 3\n",
    "LX = float(\"+inf\")\n",
    "LY = float(\"+inf\")\n",
    "Z_SPACING = 1.0\n",
    "\n",
    "detector = toy.SimpleDetectorGeometry(\n",
    "    module_id=list(range(N_MODULES)),\n",
    "    lx=[LX] * N_MODULES,\n",
    "    ly=[LY] * N_MODULES,\n",
    "    z=[i + Z_SPACING for i in range(N_MODULES)]\n",
    ")\n",
    "\n",
    "generator = toy.SimpleGenerator(\n",
    "    detector_geometry=detector,\n",
    "    theta_max=np.pi / 6\n",
    ")\n",
    "\n",
    "N_PARTICLES = 2\n",
    "event = generator.generate_event(N_PARTICLES)\n",
    "event.hits"
   ]
  },
  {
   "cell_type": "code",
   "execution_count": 3,
   "metadata": {},
   "outputs": [
    {
     "name": "stdout",
     "output_type": "stream",
     "text": [
      "[[ 0.  1.  1.  0. -1.  0.  0.  0.]\n",
      " [ 1.  0.  0.  1.  0.  0.  0.  0.]\n",
      " [ 1.  0.  0.  1.  0.  0.  0.  0.]\n",
      " [ 0.  1.  1.  0.  0.  0.  0. -1.]\n",
      " [-1.  0.  0.  0.  0.  1.  1.  0.]\n",
      " [ 0.  0.  0.  0.  1.  0.  0.  1.]\n",
      " [ 0.  0.  0.  0.  1.  0.  0.  1.]\n",
      " [ 0.  0.  0. -1.  0.  1.  1.  0.]]\n",
      "Memory used: 0.17 MB\n",
      "Time taken: 0.004987 seconds\n",
      "[1 0 0 1 1 0 0 1]\n"
     ]
    }
   ],
   "source": [
    "params = {\n",
    "    'alpha': 1.0,\n",
    "    'beta': 1.0,\n",
    "    'lambda': 100.0,} \n",
    "\n",
    "def generate_hamiltonian_optimized(event, params):\n",
    "    lambda_val = params.get('lambda')\n",
    "    alpha = params.get('alpha')\n",
    "    beta = params.get('beta')\n",
    "\n",
    "    modules = sorted(event.modules, key=lambda module: module.z)\n",
    "\n",
    "    \n",
    "    segments = [\n",
    "        em.segment(from_hit, to_hit)\n",
    "        for idx in range(len(modules) - 1)\n",
    "        for from_hit, to_hit in itertools.product(modules[idx].hits, modules[idx + 1].hits)\n",
    "    ]\n",
    "\n",
    "    N = len(segments)  \n",
    "\n",
    "    #initialize sparse block matrices for effviciency\n",
    "    A_ang_blocks = []\n",
    "    A_bif_blocks = []\n",
    "    A_inh_blocks = []\n",
    "    b = np.zeros(N)\n",
    "\n",
    "    #total Hamiltonian into smaller blocks->> better for memory\n",
    "    block_size = 500  \n",
    "    num_blocks = (N + block_size - 1) // block_size  \n",
    "\n",
    "    for block_idx in range(num_blocks):\n",
    "        start_idx = block_idx * block_size\n",
    "        end_idx = min(start_idx + block_size, N)\n",
    "\n",
    "        #lil_matrix for each block\n",
    "        A_ang_block = lil_matrix((end_idx - start_idx, end_idx - start_idx), dtype=np.float32)\n",
    "        A_bif_block = lil_matrix((end_idx - start_idx, end_idx - start_idx), dtype=np.float32)\n",
    "        A_inh_block = lil_matrix((end_idx - start_idx, end_idx - start_idx), dtype=np.float32)\n",
    "\n",
    "        #filling of papricas\n",
    "        for i in range(start_idx, end_idx):\n",
    "            seg_i = segments[i]\n",
    "            vect_i = seg_i.to_vect()\n",
    "            norm_i = np.linalg.norm(vect_i)\n",
    "\n",
    "            for j in range(i + 1, end_idx):  #\n",
    "                seg_j = segments[j]\n",
    "                vect_j = seg_j.to_vect()\n",
    "                norm_j = np.linalg.norm(vect_j)\n",
    "\n",
    "                cosine = np.dot(vect_i, vect_j) / (norm_i * norm_j)\n",
    "                if np.abs(cosine - 1) < 1e-9:\n",
    "                    A_ang_block[i - start_idx, j - start_idx] = 1\n",
    "                    A_ang_block[j - start_idx, i - start_idx] = 1  # Symmetry with positive sign\n",
    "\n",
    "                if seg_i.from_hit == seg_j.from_hit and seg_i.to_hit != seg_j.to_hit:\n",
    "                    A_bif_block[i - start_idx, j - start_idx] = -alpha\n",
    "                    A_bif_block[j - start_idx, i - start_idx] = -alpha  # Symmetry with negative sign\n",
    "\n",
    "                if seg_i.from_hit != seg_j.from_hit and seg_i.to_hit == seg_j.to_hit:\n",
    "                    A_bif_block[i - start_idx, j - start_idx] = -alpha\n",
    "                    A_bif_block[j - start_idx, i - start_idx] = -alpha  # Symmetry with negative sign\n",
    "\n",
    "                s_ab = int(seg_i.from_hit.module_id == 1 and seg_j.to_hit.module_id == 1)\n",
    "                if s_ab > 0:\n",
    "                    A_inh_block[i - start_idx, j - start_idx] = beta * s_ab * s_ab\n",
    "                    A_inh_block[j - start_idx, i - start_idx] = beta * s_ab * s_ab  # Symmetry with positive sign\n",
    "\n",
    "        A_ang_blocks.append(A_ang_block)\n",
    "        A_bif_blocks.append(A_bif_block)\n",
    "        A_inh_blocks.append(A_inh_block)\n",
    "\n",
    "    # combine withblock diagonal\n",
    "    A_ang = block_diag(A_ang_blocks, format='csc')\n",
    "    A_bif = block_diag(A_bif_blocks, format='csc')\n",
    "    A_inh = block_diag(A_inh_blocks, format='csc')\n",
    "\n",
    "    A = -1 * (A_ang + A_bif + A_inh)\n",
    "\n",
    "    return A, b, segments\n",
    "\n",
    "#performance measurement\n",
    "process = psutil.Process()\n",
    "\n",
    "start_memory = process.memory_info().rss / (1024 ** 2)  # Memory in MB\n",
    "start_time = time.time()\n",
    "\n",
    "A, b, segments = generate_hamiltonian_optimized(event, params)\n",
    "end_memory = process.memory_info().rss / (1024 ** 2)  # Memory in MB\n",
    "end_time = time.time()\n",
    "\n",
    "memory_used = end_memory - start_memory\n",
    "time_taken = end_time - start_time\n",
    "print(A.toarray())\n",
    "print(f\"Memory used: {memory_used:.2f} MB\")\n",
    "print(f\"Time taken: {time_taken:.6f} seconds\")\n",
    "true_solution = np.array([1 if segment.truth else 0 for segment in segments])\n",
    "print(true_solution)"
   ]
  },
  {
   "cell_type": "code",
   "execution_count": 4,
   "metadata": {},
   "outputs": [
    {
     "name": "stdout",
     "output_type": "stream",
     "text": [
      "Solution:[1 0 0 1 1 0 0 1]\n"
     ]
    },
    {
     "data": {
      "text/plain": [
       "array([1, 0, 0, 1, 1, 0, 0, 1])"
      ]
     },
     "execution_count": 4,
     "metadata": {},
     "output_type": "execute_result"
    }
   ],
   "source": [
    "import dimod\n",
    "import psutil\n",
    "import time\n",
    "from scipy.sparse import csc_matrix\n",
    "\n",
    "def qubosolver(A, b):\n",
    "\n",
    "\n",
    "    #Keep A sparse\n",
    "    A = csc_matrix(A)\n",
    "\n",
    "    bqm = dimod.BinaryQuadraticModel.empty(dimod.BINARY)\n",
    "\n",
    "    #vectors for efficiency \n",
    "    bqm.add_variables_from({i: b[i] for i in range(len(b))})\n",
    "\n",
    "    row, col = A.nonzero()  \n",
    "    for i, j in zip(row, col):\n",
    "        if i != j:  \n",
    "            bqm.add_interaction(i, j, A[i, j])\n",
    "\n",
    "    sampler = SimulatedAnnealingSampler()\n",
    "    response = sampler.sample(bqm, num_reads=100)\n",
    "\n",
    "    best_sample = response.first.sample\n",
    "    sol_sample = np.fromiter(best_sample.values(), dtype=int)  \n",
    "\n",
    "\n",
    "    print(f\"Solution:{sol_sample}\")\n",
    "\n",
    "\n",
    "    return sol_sample\n",
    "\n",
    "qubosolver(A, b)\n"
   ]
  },
  {
   "cell_type": "code",
   "execution_count": 5,
   "metadata": {},
   "outputs": [
    {
     "data": {
      "text/plain": [
       "array([1, 0, 0, 1, 1, 0, 0, 1])"
      ]
     },
     "execution_count": 5,
     "metadata": {},
     "output_type": "execute_result"
    }
   ],
   "source": [
    "import dimod\n",
    "def qubosolverTABU(A, b):\n",
    "    # Keep A sparse\n",
    "    A = csc_matrix(A)\n",
    "    bqm = dimod.BinaryQuadraticModel.empty(dimod.BINARY)\n",
    "\n",
    "    # Vectors for efficiency \n",
    "    bqm.add_variables_from({i: b[i] for i in range(len(b))})\n",
    "\n",
    "    row, col = A.nonzero()  \n",
    "    for i, j in zip(row, col):\n",
    "        if i != j:  \n",
    "            bqm.add_interaction(i, j, A[i, j])\n",
    "\n",
    "    sampler = TabuSampler()\n",
    "    response = sampler.sample(bqm, num_reads=50)\n",
    "\n",
    "    best_sample = response.first.sample\n",
    "    sol_sample = np.fromiter(best_sample.values(), dtype=int)  \n",
    "\n",
    "\n",
    "\n",
    "    return sol_sample\n",
    "qubosolverTABU(A, b)"
   ]
  },
  {
   "cell_type": "code",
   "execution_count": 7,
   "metadata": {},
   "outputs": [
    {
     "name": "stdout",
     "output_type": "stream",
     "text": [
      "Solution: [1 0 0 1 1 0 0 1]\n"
     ]
    },
    {
     "data": {
      "text/plain": [
       "array([1, 0, 0, 1, 1, 0, 0, 1])"
      ]
     },
     "execution_count": 7,
     "metadata": {},
     "output_type": "execute_result"
    }
   ],
   "source": [
    "def qubosolverQA(A, b):\n",
    "    # Keep A sparse\n",
    "    A = csc_matrix(A)\n",
    "\n",
    "    bqm = dimod.BinaryQuadraticModel.empty(dimod.BINARY)\n",
    "    bqm.add_variables_from({i: b[i] for i in range(len(b))})\n",
    "\n",
    "    row, col = A.nonzero()\n",
    "    for i, j in zip(row, col):\n",
    "        if i != j:\n",
    "            bqm.add_interaction(i, j, A[i, j])\n",
    "\n",
    "    # Use D-Wave's quantum sampler\n",
    "    sampler = EmbeddingComposite(DWaveSampler(token='DEV-2df6769d96a5ddaec4b4e037d3a7a92833582e9c'))\n",
    "    response = sampler.sample(bqm, num_reads=100)\n",
    "\n",
    "    best_sample = response.first.sample\n",
    "    sol_sample = np.fromiter(best_sample.values(), dtype=int)\n",
    "\n",
    "\n",
    "    print(f\"Solution: {sol_sample}\")\n",
    "\n",
    "\n",
    "    return sol_sample\n",
    "\n",
    "qubosolverQA(A, b)"
   ]
  },
  {
   "cell_type": "code",
   "execution_count": 8,
   "metadata": {},
   "outputs": [
    {
     "name": "stdout",
     "output_type": "stream",
     "text": [
      "Solution: [1 0 0 1 1 0 0 1]\n"
     ]
    },
    {
     "data": {
      "text/plain": [
       "array([1, 0, 0, 1, 1, 0, 0, 1])"
      ]
     },
     "execution_count": 8,
     "metadata": {},
     "output_type": "execute_result"
    }
   ],
   "source": [
    "from dwave.system import LeapHybridSampler\n",
    "import os\n",
    "\n",
    "os.environ['DWAVE_API_TOKEN'] = 'DEV-2df6769d96a5ddaec4b4e037d3a7a92833582e9c'\n",
    "import tracemalloc\n",
    "import time\n",
    "import numpy as np\n",
    "from scipy.sparse import csc_matrix\n",
    "from dimod import BinaryQuadraticModel\n",
    "def qubosolverHr(A, b):\n",
    "\n",
    "\n",
    "    # Keep A sparse\n",
    "    A = csc_matrix(A)\n",
    "\n",
    "    # Define a Binary Quadratic Model (BQM) for the QUBO problem\n",
    "    bqm = BinaryQuadraticModel.empty(dimod.BINARY)\n",
    "\n",
    "    # Add the linear terms from vector b\n",
    "    bqm.add_variables_from({i: b[i] for i in range(len(b))})\n",
    "    row, col = A.nonzero()  # Get non-zero entries in the matrix A\n",
    "    for i, j in zip(row, col):\n",
    "        if i != j:  # Only consider off-diagonal terms (interactions)\n",
    "            bqm.add_interaction(i, j, A[i, j])\n",
    "\n",
    "    sampler = LeapHybridSampler()\n",
    "\n",
    "    # Solve the QUBO problem using the hybrid solver\n",
    "    response = sampler.sample(bqm)\n",
    "\n",
    "    # Extract the best sample (solution) from the response\n",
    "    best_sample = response.first.sample\n",
    "    sol_sample = np.fromiter(best_sample.values(), dtype=int)\n",
    "\n",
    "    print(f\"Solution: {sol_sample}\")\n",
    "\n",
    "\n",
    "    return sol_sample\n",
    "qubosolverHr(A, b)"
   ]
  },
  {
   "cell_type": "code",
   "execution_count": 23,
   "metadata": {},
   "outputs": [
    {
     "name": "stdout",
     "output_type": "stream",
     "text": [
      "Best Solution: [1 0 0 1 1 0 0 1]\n",
      "Best Energy: -4.0\n",
      "Brute Force Solution: [1 0 0 1 1 0 0 1]\n"
     ]
    }
   ],
   "source": [
    "from itertools import product\n",
    "from scipy.sparse import csc_matrix\n",
    "\n",
    "def brute_force(A, b):\n",
    "    A = csc_matrix(A)\n",
    "    n = len(b) \n",
    "\n",
    "    best_solution = None\n",
    "    best_energy = np.inf\n",
    "    for config in product([0, 1], repeat=n):\n",
    "        config = np.array(config)\n",
    "        \n",
    "        #calculate energy: E = x^T A x + b^T x\n",
    "        energy = config @ A @ config + b @ config\n",
    "        if energy < best_energy:\n",
    "            best_energy = energy\n",
    "            best_solution = config\n",
    "\n",
    "    print(f\"Best Solution: {best_solution}\")\n",
    "    print(f\"Best Energy: {best_energy}\")\n",
    "\n",
    "    return best_solution\n",
    "\n",
    "\n",
    "brute_force_solution = brute_force(A, b)\n",
    "print(f\"Brute Force Solution: {brute_force_solution}\")\n",
    "\n",
    "\n"
   ]
  }
 ],
 "metadata": {
  "kernelspec": {
   "display_name": "base",
   "language": "python",
   "name": "python3"
  },
  "language_info": {
   "codemirror_mode": {
    "name": "ipython",
    "version": 3
   },
   "file_extension": ".py",
   "mimetype": "text/x-python",
   "name": "python",
   "nbconvert_exporter": "python",
   "pygments_lexer": "ipython3",
   "version": "3.11.5"
  }
 },
 "nbformat": 4,
 "nbformat_minor": 2
}
